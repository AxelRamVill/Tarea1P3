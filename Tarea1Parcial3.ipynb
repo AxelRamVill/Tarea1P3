{
  "nbformat": 4,
  "nbformat_minor": 0,
  "metadata": {
    "colab": {
      "name": "Tarea1Parcial3.ipynb",
      "provenance": [],
      "collapsed_sections": []
    },
    "kernelspec": {
      "name": "python3",
      "display_name": "Python 3"
    }
  },
  "cells": [
    {
      "cell_type": "code",
      "metadata": {
        "colab": {
          "base_uri": "https://localhost:8080/",
          "height": 397
        },
        "id": "BBrnERrylcS2",
        "outputId": "2407817f-1084-4732-a563-b2b692d124ee"
      },
      "source": [
        "import matplotlib.pyplot as plt\r\n",
        "\r\n",
        "i=0\r\n",
        "x = [0.0]\r\n",
        "y = [0.0]\r\n",
        "z = [0.0]\r\n",
        "w = [0.0]\r\n",
        "    \r\n",
        "     \r\n",
        "while (i!=10):\r\n",
        "        \r\n",
        "    x.append(0.25 + (0.25* y[i]))\r\n",
        "\r\n",
        "    y.append(0.25 +(0.25 * x[i]) + (0.25 * z[i]))\r\n",
        "\r\n",
        "    z.append(0.25 + (0.25 * y[i]) + (0.25 * w[i]))\r\n",
        "\r\n",
        "    w.append(0.25 + (0.25 * z[i]))\r\n",
        "\r\n",
        "    i+=1\r\n",
        "            \r\n",
        "\r\n",
        "\r\n",
        "print('x: ' + str(x) + ' \\n')\r\n",
        "print('y: ' + str(y) + ' \\n')\r\n",
        "print('z: ' + str(z) + ' \\n')\r\n",
        "print('w: ' + str(w) + ' \\n')\r\n",
        "    \r\n",
        "plt.plot(x,label=\"x\",color='r')\r\n",
        "plt.plot(y,label=\"y\",color='b')\r\n",
        "plt.plot(z,label=\"z\",color='m')\r\n",
        "plt.plot(w,label=\"w\",color='c')\r\n",
        "plt.legend()\r\n",
        "plt.show()"
      ],
      "execution_count": 1,
      "outputs": [
        {
          "output_type": "stream",
          "text": [
            "x: [0.0, 0.25, 0.3125, 0.34375, 0.35546875, 0.3603515625, 0.3623046875, 0.36309814453125, 0.3634185791015625, 0.36354827880859375, 0.3636007308959961] \n",
            "\n",
            "y: [0.0, 0.25, 0.375, 0.421875, 0.44140625, 0.44921875, 0.452392578125, 0.45367431640625, 0.454193115234375, 0.4544029235839844, 0.45448780059814453] \n",
            "\n",
            "z: [0.0, 0.25, 0.375, 0.421875, 0.44140625, 0.44921875, 0.452392578125, 0.45367431640625, 0.454193115234375, 0.4544029235839844, 0.45448780059814453] \n",
            "\n",
            "w: [0.0, 0.25, 0.3125, 0.34375, 0.35546875, 0.3603515625, 0.3623046875, 0.36309814453125, 0.3634185791015625, 0.36354827880859375, 0.3636007308959961] \n",
            "\n"
          ],
          "name": "stdout"
        },
        {
          "output_type": "display_data",
          "data": {
            "image/png": "[encoded data removed]",
            "text/plain": [
              "<Figure size 432x288 with 1 Axes>"
            ]
          },
          "metadata": {
            "tags": [],
            "needs_background": "light"
          }
        }
      ]
    }
  ]
}